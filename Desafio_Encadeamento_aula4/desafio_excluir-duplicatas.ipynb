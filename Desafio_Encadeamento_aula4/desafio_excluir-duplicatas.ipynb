{
 "cells": [
  {
   "cell_type": "markdown",
   "metadata": {},
   "source": [
    "# Desafio da aula 4\n",
    "# excluindo duplicatas em uma lista encadeada"
   ]
  },
  {
   "cell_type": "code",
   "execution_count": 3,
   "metadata": {},
   "outputs": [],
   "source": [
    "# difinindo um nó\n",
    "class node:\n",
    "    def __init__(self, nome, altura, idade, usuario_cod):\n",
    "        self.nome = nome \n",
    "        self.altura = altura\n",
    "        self.idade = idade\n",
    "        self.usuario_cod = usuario_cod\n",
    "        self.next = None\n"
   ]
  },
  {
   "cell_type": "markdown",
   "metadata": {},
   "source": [
    "## criando lista \n"
   ]
  },
  {
   "cell_type": "code",
   "execution_count": null,
   "metadata": {},
   "outputs": [],
   "source": [
    "class linkedlist:\n",
    "    def __init__(self):\n",
    "        self.head = None\n",
    "\n",
    "# metodo de inserção \n",
    "    def inserir_no_inicio(self, nome, altura, idade, usuario_cod):\n",
    "        new_node = node(nome, altura, idade, usuario_cod)\n",
    "        new_node.next = self.head \n",
    "        self.head = new_node\n",
    "\n",
    "\n",
    "#  metodo de remoção de duplicatas\n",
    "    def excluir_duplicatas(self):\n",
    "        if self.head is None:\n",
    "            print(\"lista está vazia\")\n",
    "            return\n",
    "        if self.head.next is None:\n",
    "            print(\"lista possui apenas um elemento.\")\n",
    "            return\n",
    "\n",
    "        observador = set() \n",
    "        no_corrente = self.head \n",
    "        prev = None \n",
    "\n",
    "        while(no_corrente):\n",
    "            dodos_corrente = (no_corrente.nome, no_corrente.altura, no_corrente.idade, no_corrente.usuario_cod)\n",
    "            if dados_corrente in observador\n",
    "                prev.next = no_corrente.next\n",
    "            else:\n",
    "                observador.add(no_corrente.nome, no_corrente.altura, no_corrente.idade, no_corrente.usuario_cod)\n",
    "                prev = no_corrente  \n",
    "\n",
    "            no_corrente = no_corrente.next    \n",
    "\n",
    "# metodo de exibição da lista \n",
    "\n",
    "    def exibir_lista(self):\n",
    "        no_corrente = self.head\n",
    "        while(no_corrente):\n",
    "            print(f\"nome: {no_corrente.nome} altura: {no_corrente.altura} idade: {no_corrente.idade} cpf: {no_corrente.usuario_cod}\")\n",
    "            no_corrente = no_corrente.next\n",
    "        "
   ]
  },
  {
   "cell_type": "markdown",
   "metadata": {},
   "source": [
    "### mostar lista "
   ]
  },
  {
   "cell_type": "code",
   "execution_count": 15,
   "metadata": {},
   "outputs": [
    {
     "name": "stdout",
     "output_type": "stream",
     "text": [
      "lista antes \n",
      "nome: Isane altura: 1,60 idade: 43 cpf: 004\n",
      "nome: Bento altura: 1,74 idade: 53 cpf: 005\n",
      "nome: Iuri altura: 1,80 idade: 19 cpf: 003\n",
      "nome: Iuri altura: 1,80 idade: 19 cpf: 003\n",
      "nome: Joanna altura: 1,84 idade: 21 cpf: 002\n",
      "nome: Iron altura: 1,84 idade: 21 cpf: 001\n",
      "lista depois do método de exclusão\n"
     ]
    },
    {
     "ename": "AttributeError",
     "evalue": "'NoneType' object has no attribute 'next' and no __dict__ for setting new attributes",
     "output_type": "error",
     "traceback": [
      "\u001b[1;31m---------------------------------------------------------------------------\u001b[0m",
      "\u001b[1;31mAttributeError\u001b[0m                            Traceback (most recent call last)",
      "Cell \u001b[1;32mIn[15], line 13\u001b[0m\n\u001b[0;32m     10\u001b[0m lista\u001b[38;5;241m.\u001b[39mexibir_lista() \n\u001b[0;32m     12\u001b[0m \u001b[38;5;28mprint\u001b[39m(\u001b[38;5;124m\"\u001b[39m\u001b[38;5;124mlista depois do método de exclusão\u001b[39m\u001b[38;5;124m\"\u001b[39m)\n\u001b[1;32m---> 13\u001b[0m \u001b[43mlista\u001b[49m\u001b[38;5;241;43m.\u001b[39;49m\u001b[43mexcluir_duplicatas\u001b[49m\u001b[43m(\u001b[49m\u001b[43m)\u001b[49m\n\u001b[0;32m     16\u001b[0m lista\u001b[38;5;241m.\u001b[39mexibir_lista\n",
      "Cell \u001b[1;32mIn[14], line 25\u001b[0m, in \u001b[0;36mlinkedlist.excluir_duplicatas\u001b[1;34m(self)\u001b[0m\n\u001b[0;32m     23\u001b[0m \u001b[38;5;28;01mwhile\u001b[39;00m(no_corrente):\n\u001b[0;32m     24\u001b[0m     \u001b[38;5;28;01mif\u001b[39;00m (\u001b[38;5;124mf\u001b[39m\u001b[38;5;124m\"\u001b[39m\u001b[38;5;132;01m{\u001b[39;00mno_corrente\u001b[38;5;241m.\u001b[39mnome\u001b[38;5;132;01m}\u001b[39;00m\u001b[38;5;124m \u001b[39m\u001b[38;5;132;01m{\u001b[39;00mno_corrente\u001b[38;5;241m.\u001b[39maltura\u001b[38;5;132;01m}\u001b[39;00m\u001b[38;5;124m \u001b[39m\u001b[38;5;132;01m{\u001b[39;00mno_corrente\u001b[38;5;241m.\u001b[39midade\u001b[38;5;132;01m}\u001b[39;00m\u001b[38;5;124m  \u001b[39m\u001b[38;5;132;01m{\u001b[39;00mno_corrente\u001b[38;5;241m.\u001b[39musuario_cod\u001b[38;5;132;01m}\u001b[39;00m\u001b[38;5;124m\"\u001b[39m):\n\u001b[1;32m---> 25\u001b[0m         \u001b[43mdelet\u001b[49m\u001b[38;5;241;43m.\u001b[39;49m\u001b[43mnext\u001b[49m \u001b[38;5;241m=\u001b[39m no_corrente\u001b[38;5;241m.\u001b[39mnext\n\u001b[0;32m     26\u001b[0m     \u001b[38;5;28;01melse\u001b[39;00m:\n\u001b[0;32m     27\u001b[0m         observador\u001b[38;5;241m.\u001b[39madd(no_corrente\u001b[38;5;241m.\u001b[39mnome, no_corrente\u001b[38;5;241m.\u001b[39maltura, no_corrente\u001b[38;5;241m.\u001b[39midade, no_corrente\u001b[38;5;241m.\u001b[39musuario_cod)\n",
      "\u001b[1;31mAttributeError\u001b[0m: 'NoneType' object has no attribute 'next' and no __dict__ for setting new attributes"
     ]
    }
   ],
   "source": [
    "lista = linkedlist()\n",
    "print(\"lista antes \")\n",
    "lista.inserir_no_inicio(\"Iron\", \"1,84\", 21, \"001\")\n",
    "lista.inserir_no_inicio(\"Joanna\", \"1,84\", 21, \"002\")\n",
    "lista.inserir_no_inicio(\"Iuri\", \"1,80\", 19, \"003\")\n",
    "lista.inserir_no_inicio(\"Iuri\", \"1,80\", 19, \"003\")\n",
    "lista.inserir_no_inicio(\"Bento\", \"1,74\", 53, \"005\")\n",
    "lista.inserir_no_inicio(\"Isane\", \"1,60\", 43, \"004\")\n",
    "\n",
    "lista.exibir_lista() \n",
    "\n",
    "print(\"lista depois do método de exclusão\")\n",
    "lista.excluir_duplicatas()\n",
    "\n",
    "\n",
    "lista.exibir_lista\n"
   ]
  }
 ],
 "metadata": {
  "kernelspec": {
   "display_name": "Python 3",
   "language": "python",
   "name": "python3"
  },
  "language_info": {
   "codemirror_mode": {
    "name": "ipython",
    "version": 3
   },
   "file_extension": ".py",
   "mimetype": "text/x-python",
   "name": "python",
   "nbconvert_exporter": "python",
   "pygments_lexer": "ipython3",
   "version": "3.13.2"
  }
 },
 "nbformat": 4,
 "nbformat_minor": 2
}
