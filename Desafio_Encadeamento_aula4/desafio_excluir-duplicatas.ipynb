{
 "cells": [
  {
   "cell_type": "markdown",
   "metadata": {},
   "source": [
    "# Desafio da aula 4\n",
    "# excluindo duplicatas em uma lista encadeada"
   ]
  },
  {
   "cell_type": "code",
   "execution_count": 4,
   "metadata": {},
   "outputs": [],
   "source": [
    "# difinindo um nó\n",
    "class node:\n",
    "    def __init__(self, nome, altura, idade, usuario_cod):\n",
    "        self.nome = nome \n",
    "        self.altura = altura\n",
    "        self.idade = idade\n",
    "        self.usuario_cod = usuario_cod\n",
    "        self.next = None\n"
   ]
  },
  {
   "cell_type": "markdown",
   "metadata": {},
   "source": [
    "## criando lista \n"
   ]
  },
  {
   "cell_type": "code",
   "execution_count": 5,
   "metadata": {},
   "outputs": [],
   "source": [
    "class linkedlist:\n",
    "    def __init__(self):\n",
    "        self.head = None\n",
    "\n",
    "# metodo de inserção \n",
    "    def inserir_no_inicio(self, nome, altura, idade, usuario_cod):\n",
    "        new_node = node(nome, altura, idade, usuario_cod)\n",
    "        new_node.next = self.head \n",
    "        self.head = new_node\n",
    "\n",
    "\n",
    "#  metodo de remoção de duplicatas\n",
    "    def excluir_duplicatas(self):\n",
    "        if self.head is None:\n",
    "            print(\"lista está vazia\")\n",
    "            return\n",
    "        if self.head.next is None:\n",
    "            print(\"lista possui apenas um elemento.\")\n",
    "            return\n",
    "\n",
    "        observador = set() \n",
    "        no_corrente = self.head \n",
    "        prev = None \n",
    "\n",
    "        while no_corrente:\n",
    "            dados_no = (no_corrente.nome, no_corrente.altura, no_corrente.idade, no_corrente.usuario_cod)\n",
    "\n",
    "            if dados_no in observador:\n",
    "                prev.next = no_corrente.next\n",
    "            else:\n",
    "                observador.add(dados_no)\n",
    "                prev = no_corrente  \n",
    "\n",
    "            no_corrente = no_corrente.next   \n",
    "\n",
    "# metodo de exibição da lista \n",
    "\n",
    "    def exibir_lista(self):\n",
    "        no_corrente = self.head\n",
    "        while(no_corrente):\n",
    "            print(f\"nome: {no_corrente.nome} altura: {no_corrente.altura} idade: {no_corrente.idade} cpf: {no_corrente.usuario_cod}\")\n",
    "            no_corrente = no_corrente.next\n",
    "        "
   ]
  },
  {
   "cell_type": "markdown",
   "metadata": {},
   "source": [
    "### mostar lista "
   ]
  },
  {
   "cell_type": "code",
   "execution_count": 15,
   "metadata": {},
   "outputs": [
    {
     "name": "stdout",
     "output_type": "stream",
     "text": [
      "lista antes \n",
      "nome: Iuri altura: 1,80 idade: 19 cpf: 003\n",
      "nome: Joanna altura: 1,60 idade: 21 cpf: 002\n",
      "nome: Isane altura: 1,60 idade: 43 cpf: 004\n",
      "nome: Bento altura: 1,74 idade: 53 cpf: 005\n",
      "nome: Iuri altura: 1,80 idade: 19 cpf: 003\n",
      "nome: Iuri altura: 1,80 idade: 19 cpf: 003\n",
      "nome: Joanna altura: 1,60 idade: 21 cpf: 002\n",
      "nome: Iron altura: 1,84 idade: 21 cpf: 001\n",
      "\n",
      "lista depois do método de exclusão\n",
      "\n",
      "nome: Iuri altura: 1,80 idade: 19 cpf: 003\n",
      "nome: Joanna altura: 1,60 idade: 21 cpf: 002\n",
      "nome: Isane altura: 1,60 idade: 43 cpf: 004\n",
      "nome: Bento altura: 1,74 idade: 53 cpf: 005\n",
      "nome: Iron altura: 1,84 idade: 21 cpf: 001\n"
     ]
    }
   ],
   "source": [
    "lista = linkedlist()\n",
    "print(\"lista antes \")\n",
    "lista.inserir_no_inicio(\"Iron\", \"1,84\", 21, \"001\")\n",
    "lista.inserir_no_inicio(\"Joanna\", \"1,60\", 21, \"002\")\n",
    "lista.inserir_no_inicio(\"Iuri\", \"1,80\", 19, \"003\")\n",
    "lista.inserir_no_inicio(\"Iuri\", \"1,80\", 19, \"003\")\n",
    "lista.inserir_no_inicio(\"Bento\", \"1,74\", 53, \"005\")\n",
    "lista.inserir_no_inicio(\"Isane\", \"1,60\", 43, \"004\")\n",
    "lista.inserir_no_inicio(\"Joanna\", \"1,60\", 21, \"002\")\n",
    "lista.inserir_no_inicio(\"Iuri\", \"1,80\", 19, \"003\")\n",
    "\n",
    "lista.exibir_lista()\n",
    "print(\"\")\n",
    "print(\"lista depois do método de exclusão\")\n",
    "print(\"\")\n",
    "\n",
    "lista.excluir_duplicatas()\n",
    "\n",
    "lista.exibir_lista()"
   ]
  },
  {
   "cell_type": "code",
   "execution_count": null,
   "metadata": {},
   "outputs": [],
   "source": []
  }
 ],
 "metadata": {
  "kernelspec": {
   "display_name": "Python 3",
   "language": "python",
   "name": "python3"
  },
  "language_info": {
   "codemirror_mode": {
    "name": "ipython",
    "version": 3
   },
   "file_extension": ".py",
   "mimetype": "text/x-python",
   "name": "python",
   "nbconvert_exporter": "python",
   "pygments_lexer": "ipython3",
   "version": "3.13.2"
  }
 },
 "nbformat": 4,
 "nbformat_minor": 2
}
